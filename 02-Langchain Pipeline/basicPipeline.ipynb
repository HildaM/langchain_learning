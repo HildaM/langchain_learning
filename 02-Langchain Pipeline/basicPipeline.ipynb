{
 "cells": [
  {
   "cell_type": "markdown",
   "metadata": {},
   "source": [
    "# Basic example: prompt + model + output parser"
   ]
  },
  {
   "cell_type": "markdown",
   "metadata": {},
   "source": [
    "## 1. 设置本地模型\n",
    "\n",
    "基于 LM Studio 的本地模型，提供 OpenAI API 的调用方式"
   ]
  },
  {
   "cell_type": "code",
   "execution_count": 2,
   "metadata": {},
   "outputs": [
    {
     "data": {
      "text/plain": [
       "'深圳，这座位于中国东南沿海的现代化都市，以其独特的人文地理特征吸引了全球的目光。作为中国改革开放的窗口和经济特区，它在短短几十年内经历了从一个小渔村到国际大都市的飞跃式发展，人文地理丰富多样。\\n\\n1. **历史背景：**\\n深圳的历史可以追溯到新石器时代，但真正崛起是在上世纪70年代末，因中国的“开放政策”而设立为经济特区。这里的人文遗产主要体现在现代建筑和公共空间中，如深圳中心区的高楼大厦群、大剧院、图书馆等，都是改革开放见证的实物例证。\\n\\n2. **移民文化：**\\n深圳是一座典型的移民城市，来自全国各地甚至世界各地的人才汇聚于此。这种多元化的移民背景形成了包容性强、开放创新的文化氛围。深圳人常说“来了就是深圳人”，这不仅体现在语言和生活习惯上，也反映在对新事物接受度高和创新精神上。\\n\\n3. **教育与科技：**\\n作为中国的教育高地之一，深圳拥有众多知名高校和科研机构，如南科大、深圳大学等。高等教育的普及为城市提供了大量高素质人才，同时也推动了科技创新，形成了以高新技术产业为主的人文经济景观。\\n\\n4. **多元艺术与娱乐：**\\n深圳作为国际旅游目的地，其文化生活丰富多彩。有大型的音乐节、电影节，也有各类博物馆和艺术展览，如深圳当代艺术馆等，展示了现代都市的文化品位和生活品质。\\n\\n5. **方言与俚语：**\\n尽管深圳是普通话的主要使用地区，但因其移民人口众多，地方方言“深圳话”也独具特色。同时，“深圳土话”中的许多俚语和网络用语，反映出这座城市年轻活力的一面。\\n\\n6. **生活方式与消费观念：**\\n深圳的生活节奏快，人们追求高效便利，形成了独特的生活方式。作为中国消费市场的风向标之一，深圳的购物、餐饮、娱乐等消费场所常引领潮流。\\n\\n7. **环境与生态：**\\n尽管发展迅速，但深圳也注重环境保护和城市绿化。如深圳湾公园、莲花山公园等，为市民提供了休闲放松的好去处，体现出人与自然和谐共生的人文理念。\\n\\n总结来说，深圳的人文地理是以现代化、开放性、创新性和多元性为主要特点的，是一座具有鲜明时代特征和全球影响力的都市。'"
      ]
     },
     "execution_count": 2,
     "metadata": {},
     "output_type": "execute_result"
    }
   ],
   "source": [
    "from langchain_core.output_parsers import StrOutputParser\n",
    "from langchain_core.prompts import ChatPromptTemplate\n",
    "from langchain_openai import ChatOpenAI\n",
    "\n",
    "# prompt\n",
    "prompt = ChatPromptTemplate.from_template(\"请以一个地理专家的视角，分析 {topic} 这个地方的人文地理.\")\n",
    "\n",
    "# LLM\n",
    "llm = ChatOpenAI(\n",
    "    openai_api_base=\"http://localhost:1234/v1\",\n",
    "    openai_api_key=\"not-needed\"\n",
    ")\n",
    "\n",
    "# output_parser\n",
    "output_parser = StrOutputParser()\n",
    "\n",
    "# 处理流水线\n",
    "chain = prompt | llm | output_parser\n",
    "chain.invoke({\"topic\": \"深圳\"})"
   ]
  },
  {
   "cell_type": "markdown",
   "metadata": {},
   "source": [
    "\"|\" 与 Unix 的管道符相似，数据从左到右进行传递。"
   ]
  },
  {
   "cell_type": "markdown",
   "metadata": {},
   "source": [
    "## 2. Prompt\n",
    "\n",
    "`prompt` 是一个 `BasePromptTemplate` ，这意味着它接受模板变量的字典并生成一个 `PromptValue` .\n",
    "\n",
    "`PromptValue` 是对 Prompt 模板的“包装器”，可以传递给 `LLM` （将字符串作为输入）或 `ChatModel` （将一系列消息作为输入）作为输入。\n",
    "\n",
    "使用 PromptTemplate 可以规范 Prompt 的输入，将其固化为一个模板。"
   ]
  },
  {
   "cell_type": "code",
   "execution_count": 6,
   "metadata": {},
   "outputs": [
    {
     "data": {
      "text/plain": [
       "ChatPromptValue(messages=[HumanMessage(content='请以一个地理专家的视角，分析 深圳 这个地方的人文地理.')])"
      ]
     },
     "execution_count": 6,
     "metadata": {},
     "output_type": "execute_result"
    }
   ],
   "source": [
    "# Prompt 结构探究\n",
    "prompt_value = prompt.invoke({\"topic\": \"深圳\"})\n",
    "prompt_value\n",
    "\n",
    "# ChatPromptValue(messages=[HumanMessage(content='请以一个地理专家的视角，分析 深圳 这个地方的人文地理.')])"
   ]
  },
  {
   "cell_type": "code",
   "execution_count": 7,
   "metadata": {},
   "outputs": [
    {
     "data": {
      "text/plain": [
       "[HumanMessage(content='请以一个地理专家的视角，分析 深圳 这个地方的人文地理.')]"
      ]
     },
     "execution_count": 7,
     "metadata": {},
     "output_type": "execute_result"
    }
   ],
   "source": [
    "prompt_value.to_messages()\n",
    "\n",
    "# [HumanMessage(content='请以一个地理专家的视角，分析 深圳 这个地方的人文地理.')]"
   ]
  },
  {
   "cell_type": "code",
   "execution_count": 8,
   "metadata": {},
   "outputs": [
    {
     "data": {
      "text/plain": [
       "'Human: 请以一个地理专家的视角，分析 深圳 这个地方的人文地理.'"
      ]
     },
     "execution_count": 8,
     "metadata": {},
     "output_type": "execute_result"
    }
   ],
   "source": [
    "prompt_value.to_string()\n",
    "\n",
    "# 'Human: 请以一个地理专家的视角，分析 深圳 这个地方的人文地理.'"
   ]
  }
 ],
 "metadata": {
  "kernelspec": {
   "display_name": "llamaindex-learning",
   "language": "python",
   "name": "python3"
  },
  "language_info": {
   "codemirror_mode": {
    "name": "ipython",
    "version": 3
   },
   "file_extension": ".py",
   "mimetype": "text/x-python",
   "name": "python",
   "nbconvert_exporter": "python",
   "pygments_lexer": "ipython3",
   "version": "3.11.7"
  }
 },
 "nbformat": 4,
 "nbformat_minor": 2
}
