{
 "cells": [
  {
   "cell_type": "markdown",
   "metadata": {},
   "source": [
    "# Basic example: prompt + model + output parser"
   ]
  },
  {
   "cell_type": "markdown",
   "metadata": {},
   "source": [
    "## 1. 设置本地模型\n",
    "\n",
    "基于 LM Studio 的本地模型，提供 OpenAI API 的调用方式"
   ]
  },
  {
   "cell_type": "code",
   "execution_count": 2,
   "metadata": {},
   "outputs": [
    {
     "data": {
      "text/plain": [
       "'深圳，位于中国南部沿海地区，广东省，是中国的一颗璀璨明珠，其人文地理特征独特而多元。作为改革开放的前沿城市和特区，深圳的历史、经济、文化和科技发展都呈现出鲜明的时代烙印。\\n\\n1. 历史文化：虽然深圳的建市时间较短，但其历史文化内涵丰富。早期的深圳是渔村，受到海洋文化和岭南文化的熏陶，保留了一些传统习俗，如端午龙舟赛、年宵花市等。同时，深圳在改革开放初期吸收了大量的外来文化，特别是港粤文化对深圳的影响深远，形成了独特的“新南粤”文化。\\n\\n2. 经济地理：作为中国的经济特区和重要的口岸城市，深圳的经济发展速度全球瞩目。深圳大剧院、中心书城等地标性建筑体现了其高雅的艺术氛围，而世界500强企业和创新型企业如华为、腾讯等则展示了现代都市的经济实力。此外，深圳的商业繁荣和金融服务发达也使其成为华南乃至全国的重要经济中心。\\n\\n3. 社区地理：深圳的城市空间结构以“城市新区+旧城改造”为主，高楼大厦与老街区并存，形成了独特的建筑景观。大量的外来人口使得深圳成为一个多元化的社区，包容性强，形成了包容性极高的城市精神。\\n\\n4. 交通地理：深圳的交通网络发达，高速公路、铁路和航空交织，是华南地区的重要交通枢纽。深圳机场是中国重要的国际机场，不仅连接国内外，还辐射周边城市。\\n\\n5. 科技地理：深圳被誉为“中国的硅谷”，拥有深圳大学园、华为研发中心等众多科研机构，高科技产业如电子信息、生物医药等蓬勃发展，形成了以创新为驱动的区域特色。\\n\\n6. 生态环境：虽然发展迅速，但深圳也注重环保和绿色建设，有深圳湾公园、莲花山公园等城市绿肺，实现了经济发展与环境保护的平衡。\\n\\n总的来说，深圳的人文地理特征是开放性、现代化和多元化的结合，是一个充满活力和创新的城市。随着国家政策的持续优化，深圳将继续发挥其独特的优势，引领中国乃至全球的发展潮流。'"
      ]
     },
     "execution_count": 2,
     "metadata": {},
     "output_type": "execute_result"
    }
   ],
   "source": [
    "from langchain_core.output_parsers import StrOutputParser\n",
    "from langchain_core.prompts import ChatPromptTemplate\n",
    "from langchain_openai import ChatOpenAI\n",
    "\n",
    "# prompt\n",
    "prompt = ChatPromptTemplate.from_template(\"请以一个地理专家的视角，分析 {topic} 这个地方的人文地理.\")\n",
    "\n",
    "# LLM\n",
    "model = ChatOpenAI(\n",
    "    openai_api_base=\"http://localhost:1234/v1\",\n",
    "    openai_api_key=\"not-needed\"\n",
    ")\n",
    "\n",
    "# output_parser\n",
    "output_parser = StrOutputParser()\n",
    "\n",
    "# 处理流水线\n",
    "chain = prompt | model | output_parser\n",
    "chain.invoke({\"topic\": \"深圳\"})"
   ]
  },
  {
   "cell_type": "markdown",
   "metadata": {},
   "source": [
    "\"|\" 与 Unix 的管道符相似，数据从左到右进行传递。"
   ]
  },
  {
   "cell_type": "markdown",
   "metadata": {},
   "source": [
    "## 2. Prompt\n",
    "\n",
    "`prompt` 是一个 `BasePromptTemplate` ，这意味着它接受模板变量的字典并生成一个 `PromptValue` .\n",
    "\n",
    "`PromptValue` 是对 Prompt 模板的“包装器”，可以传递给 `LLM` （将字符串作为输入）或 `ChatModel` （将一系列消息作为输入）作为输入。\n",
    "\n",
    "使用 PromptTemplate 可以规范 Prompt 的输入，将其固化为一个模板。"
   ]
  },
  {
   "cell_type": "code",
   "execution_count": 11,
   "metadata": {},
   "outputs": [
    {
     "data": {
      "text/plain": [
       "ChatPromptValue(messages=[HumanMessage(content='请以一个地理专家的视角，分析 深圳 这个地方的人文地理.')])"
      ]
     },
     "execution_count": 11,
     "metadata": {},
     "output_type": "execute_result"
    }
   ],
   "source": [
    "# Prompt 结构探究\n",
    "prompt_value = prompt.invoke({\"topic\": \"深圳\"})\n",
    "prompt_value\n",
    "\n",
    "# ChatPromptValue(messages=[HumanMessage(content='请以一个地理专家的视角，分析 深圳 这个地方的人文地理.')])"
   ]
  },
  {
   "cell_type": "code",
   "execution_count": 5,
   "metadata": {},
   "outputs": [
    {
     "data": {
      "text/plain": [
       "[HumanMessage(content='请以一个地理专家的视角，分析 深圳 这个地方的人文地理.')]"
      ]
     },
     "execution_count": 5,
     "metadata": {},
     "output_type": "execute_result"
    }
   ],
   "source": [
    "prompt_value.to_messages()\n",
    "\n",
    "# [HumanMessage(content='请以一个地理专家的视角，分析 深圳 这个地方的人文地理.')]"
   ]
  },
  {
   "cell_type": "code",
   "execution_count": 17,
   "metadata": {},
   "outputs": [
    {
     "data": {
      "text/plain": [
       "'Human: 请以一个地理专家的视角，分析 深圳 这个地方的人文地理.'"
      ]
     },
     "execution_count": 17,
     "metadata": {},
     "output_type": "execute_result"
    }
   ],
   "source": [
    "prompt_value.to_string()\n",
    "\n",
    "# 'Human: 请以一个地理专家的视角，分析 深圳 这个地方的人文地理.'"
   ]
  },
  {
   "cell_type": "markdown",
   "metadata": {},
   "source": [
    "## 3. Model\n",
    "\n",
    "PromptValue 定义好后，随后就会通过流水线交由 Model 进行处理。\n",
    "\n",
    "Model 的输出结果是 BaseMessage"
   ]
  },
  {
   "cell_type": "code",
   "execution_count": 16,
   "metadata": {},
   "outputs": [
    {
     "data": {
      "text/plain": [
       "AIMessage(content='深圳，位于中国广东省南部沿海地区，作为一座现代化特区城市，其人文地理特征鲜明且多元，具有以下几个主要特点：\\n\\n1. **历史与现代的交融**：深圳的历史相对较短，但它的崛起过程快速而显著。这里曾是“宝安小镇”，后因改革开放政策成为最早一批对外开放的城市之一，吸引了大量来自全国各地的人口迁入。这种历史性的变迁使得深圳的文化既有深厚的乡土气息，又充满了现代化的气息。许多老街区保留了传统建筑风貌，同时新城区高楼林立，形成了独特的城乡交错景观。\\n\\n2. **移民城市**：深圳的“外来人口”比例高，超过70%的常住人口来自全国各地。这种多元化的背景使得深圳的文化包容性强，汇集了各地的风俗习惯、方言和饮食文化。各种节日庆典活动丰富多样，既有粤剧等地方戏曲，也有国际性的音乐节和电影节。\\n\\n3. **创新与活力**：深圳作为中国的“硅谷”，拥有众多高新技术企业和研发机构，吸引了大量高素质人才。这种创新氛围不仅体现在科技领域，也体现在生活方式上，如崇尚自由、敢于冒险的创业精神和对新鲜事物接受度高的城市风气。\\n\\n4. **语言与方言**：')"
      ]
     },
     "execution_count": 16,
     "metadata": {},
     "output_type": "execute_result"
    }
   ],
   "source": [
    "message = model.invoke(prompt_value)\n",
    "message"
   ]
  },
  {
   "cell_type": "markdown",
   "metadata": {},
   "source": [
    "与之相类似的结构是 `llm`。位于 `langchain_openai.llms` 包之中。它返回的结果是 String 类型"
   ]
  },
  {
   "cell_type": "code",
   "execution_count": null,
   "metadata": {},
   "outputs": [],
   "source": [
    "from langchain_openai.llms import OpenAI\n",
    "\n",
    "llm = OpenAI(\n",
    "    openai_api_base=\"http://localhost:1234/v1\",\n",
    "    openai_api_key=\"not-needed\"\n",
    ")\n",
    "llm.invoke(prompt_value)"
   ]
  },
  {
   "cell_type": "markdown",
   "metadata": {},
   "source": [
    "## 4. Output parser\n",
    "\n",
    "最后，我们将 model 输出传递给 output_parser ， BaseOutputParser 这意味着它接受字符串或  BaseMessage 作为输入。 StrOutputParser 的作用在于将输入转换为字符串。"
   ]
  },
  {
   "cell_type": "code",
   "execution_count": 21,
   "metadata": {},
   "outputs": [
    {
     "data": {
      "text/plain": [
       "'深圳，位于中国广东省南部沿海地区，作为一座现代化特区城市，其人文地理特征鲜明且多元，具有以下几个主要特点：\\n\\n1. **历史与现代的交融**：深圳的历史相对较短，但它的崛起过程快速而显著。这里曾是“宝安小镇”，后因改革开放政策成为最早一批对外开放的城市之一，吸引了大量来自全国各地的人口迁入。这种历史性的变迁使得深圳的文化既有深厚的乡土气息，又充满了现代化的气息。许多老街区保留了传统建筑风貌，同时新城区高楼林立，形成了独特的城乡交错景观。\\n\\n2. **移民城市**：深圳的“外来人口”比例高，超过70%的常住人口来自全国各地。这种多元化的背景使得深圳的文化包容性强，汇集了各地的风俗习惯、方言和饮食文化。各种节日庆典活动丰富多样，既有粤剧等地方戏曲，也有国际性的音乐节和电影节。\\n\\n3. **创新与活力**：深圳作为中国的“硅谷”，拥有众多高新技术企业和研发机构，吸引了大量高素质人才。这种创新氛围不仅体现在科技领域，也体现在生活方式上，如崇尚自由、敢于冒险的创业精神和对新鲜事物接受度高的城市风气。\\n\\n4. **语言与方言**：'"
      ]
     },
     "execution_count": 21,
     "metadata": {},
     "output_type": "execute_result"
    }
   ],
   "source": [
    "output_parser.invoke(message)"
   ]
  },
  {
   "cell_type": "markdown",
   "metadata": {},
   "source": [
    "## 5. 流水线其他测试代码"
   ]
  },
  {
   "cell_type": "code",
   "execution_count": 24,
   "metadata": {},
   "outputs": [
    {
     "data": {
      "text/plain": [
       "ChatPromptValue(messages=[HumanMessage(content='请以一个地理专家的视角，分析 清迈 这个地方的人文地理.')])"
      ]
     },
     "execution_count": 24,
     "metadata": {},
     "output_type": "execute_result"
    }
   ],
   "source": [
    "input = {\"topic\": \"清迈\"}\n",
    "prompt.invoke(input)"
   ]
  },
  {
   "cell_type": "code",
   "execution_count": 27,
   "metadata": {},
   "outputs": [
    {
     "data": {
      "text/plain": [
       "AIMessage(content='清迈，位于泰国北部，作为泰北的重要历史文化中心和旅游胜地，其人文地理特征独特且丰富。作为一名地理专家，可以从以下几个方面来阐述：\\n\\n1. **历史底蕴**：清迈曾是古代兰纳王国的首都，历史长达千年，留下了许多珍贵的历史遗迹。如著名的素贴山上的大佛寺（Wat Phra That Doi Suthep），塔佩门（Thapae Gate）以及古老的城墙和寺庙群，都展示着其深厚的佛教文化传统。\\n\\n2. **多元文化**：清迈的泰北文化与南方城市截然不同，受到中国、缅甸和印度的影响。这里的民众普遍信仰佛教，每年的宋干节（新年）和水灯节等庆典活动充满浓厚的宗教色彩和民间艺术元素。\\n\\n3. **手工艺与传统**：清迈是泰国的手工艺品中心之一，如丝绸、编织品、银饰和陶艺等，这些都是当地工匠智慧的结晶。同时，这里还有传统的木雕和漆器制作技艺，以及保留着泰式按摩等传统健康疗法。\\n\\n4. **教育与学术**：尽管城市规模不及南部，清迈仍有一批著名的大学和学院，如玛希隆大学（Chiang Mai University）和泰国北部艺术与设计大学，为地区提供了高等教育资源，吸引了国内外学者和学生。\\n\\n5. **地方特色**：清迈的美食也是一大人文亮点，以泰式北方菜为主，如绿咖喱、木瓜沙拉和糯米饭等。同时，这里也是乳胶制品的产地，以及手工艺品市场的中心。\\n\\n6. **自然环境与生态**：清迈四周被山脉环绕，自然景色优美，如金三角地区的门户，吸引众多户外活动爱好者，如徒步、骑行和登山等。此外，山区还有丰富的动植物资源和独特的生态环境。\\n\\n7. **社区与生活**：清迈的生活节奏较慢，人们友善且热情好客，保留着一些传统的泰北生活方式，如清晨的市集和悠闲的午后茶歇。这种社区氛围也吸引了许多国内外长期居住的人士。\\n\\n总的来说，清迈以其深厚的历史底蕴、独特的文化传统、丰富的手工艺以及宜人的自然环境，成为了一个人文气息浓厚的地方。无论是历史爱好者还是寻求宁静生活的人，都能在清迈找到属于自己的乐趣和体验。')"
      ]
     },
     "execution_count": 27,
     "metadata": {},
     "output_type": "execute_result"
    }
   ],
   "source": [
    "(prompt | model).invoke(input)"
   ]
  }
 ],
 "metadata": {
  "kernelspec": {
   "display_name": "llamaindex-learning",
   "language": "python",
   "name": "python3"
  },
  "language_info": {
   "codemirror_mode": {
    "name": "ipython",
    "version": 3
   },
   "file_extension": ".py",
   "mimetype": "text/x-python",
   "name": "python",
   "nbconvert_exporter": "python",
   "pygments_lexer": "ipython3",
   "version": "3.11.7"
  }
 },
 "nbformat": 4,
 "nbformat_minor": 2
}
