{
 "cells": [
  {
   "cell_type": "markdown",
   "metadata": {},
   "source": [
    "# Simple Local LLM Application \n",
    "LLM Setting:\n",
    "- LLM 后端服务: LM Studio\n",
    "- LLM Model: Qwen1.5-7b-chat-Q8_0.gguf"
   ]
  },
  {
   "cell_type": "markdown",
   "metadata": {},
   "source": [
    "## 1. LLM Interface Setting\n",
    "LM Studio provide \"OpenAI-like API\", so I will follow the [quickstart](https://python.langchain.com/docs/get_started/quickstart#building-with-langchain) to set up the llm"
   ]
  },
  {
   "cell_type": "code",
   "execution_count": 4,
   "metadata": {},
   "outputs": [],
   "source": [
    "from langchain_openai import ChatOpenAI\n",
    "\n",
    "llm = ChatOpenAI(\n",
    "    openai_api_base=\"http://localhost:1234/v1\",\n",
    "    openai_api_key=\"not-needed\"\n",
    ")"
   ]
  },
  {
   "cell_type": "markdown",
   "metadata": {},
   "source": [
    "Test the llm"
   ]
  },
  {
   "cell_type": "code",
   "execution_count": 5,
   "metadata": {},
   "outputs": [
    {
     "name": "stdout",
     "output_type": "stream",
     "text": [
      "<class 'langchain_core.messages.ai.AIMessage'>\n",
      "Langsmith can be a valuable tool for testing in several ways. Here are some specific ways it can support testing processes:\n",
      "\n",
      "1. **Code Generation:** Langsmith allows you to generate code snippets or entire libraries in various programming languages. This can save time and effort by automating the process of writing test cases, reducing the risk of human error and ensuring consistency across tests.\n",
      "\n",
      "2. **Stubbing and Mocking:** By generating mock objects or stubs, Langsmith can help you create realistic testing environments for functions, APIs, or classes. This is particularly useful when testing dependencies that are difficult to set up manually.\n",
      "\n",
      "3. **Test Case Generation**: With its ability to generate test cases based on input parameters and expected outputs, Langsmith can assist in creating comprehensive test suites. This can be especially helpful for generating negative tests, edge cases, and boundary conditions.\n",
      "\n",
      "4. **Validation and Assertion:** The generated code can include validation checks and assertions that help ensure the correct behavior of your code during testing. This can make debugging easier and faster as you have a clear understanding of what should happen in each test case.\n",
      "\n",
      "5. **Integration Testing:** Langsmith can assist with integration testing by generating test cases that involve multiple modules or components, ensuring they function correctly together.\n",
      "\n",
      "6. **Automated Regression Testing:** If your codebase is modified frequently, Langsmith can help automate regression testing by re-generating tests that were previously written for older versions of the code.\n",
      "\n",
      "7. **Code Quality and Compliance:** Langsmith can generate code snippets that conform to specific coding standards or best practices, which can be useful in maintaining consistency during testing.\n",
      "\n",
      "Keep in mind that while Langsmith can simplify certain aspects of testing, it should still be paired with manual testing and a thorough understanding of your application's requirements for comprehensive quality assurance.\n"
     ]
    }
   ],
   "source": [
    "resp = llm.invoke(\"how can langsmith help with testing?\")\n",
    "print(type(resp))\n",
    "print(resp.content)"
   ]
  },
  {
   "cell_type": "markdown",
   "metadata": {},
   "source": [
    "We can see it is working! And langchain return a class named \"AIMessage\""
   ]
  },
  {
   "cell_type": "markdown",
   "metadata": {},
   "source": [
    "## 2. langchain Pipeline\n",
    "\n",
    "Langchain 还可以使用 “prompt 模板” 对 prompt 进行自定义。prompt template 可以规范 prompt 的格式，使输入更为灵活。"
   ]
  },
  {
   "cell_type": "code",
   "execution_count": 6,
   "metadata": {},
   "outputs": [],
   "source": [
    "from langchain_core.prompts import ChatPromptTemplate\n",
    "prompt = ChatPromptTemplate.from_messages([\n",
    "    (\"system\", \"You are world class technical documentation writer.\"),\n",
    "    (\"user\", \"{input}\")\n",
    "])"
   ]
  },
  {
   "cell_type": "markdown",
   "metadata": {},
   "source": [
    "我们使用“|”作为“管道”，串联起 prompt 和 llm 这两个组件"
   ]
  },
  {
   "cell_type": "code",
   "execution_count": 7,
   "metadata": {},
   "outputs": [],
   "source": [
    "chain = prompt | llm"
   ]
  },
  {
   "cell_type": "code",
   "execution_count": 8,
   "metadata": {},
   "outputs": [
    {
     "name": "stdout",
     "output_type": "stream",
     "text": [
      "LangChain is a cutting-edge language learning platform that leverages the power of blockchain technology to revolutionize the way people learn and master new languages. At its core, LangChain aims to create a secure, transparent, and decentralized ecosystem for language exchange and education.\n",
      "\n",
      "1. **Decentralized Learning**: The platform utilizes blockchain's distributed ledger system to store and verify learning records. This ensures that every interaction and accomplishment is permanently recorded and cannot be tampered with, promoting trust among learners and educators.\n",
      "\n",
      "2. **Digital Certificates**: LangChain provides digital certificates for each language proficiency achieved by its users. These certificates are verifiable and can be easily shared or used for professional purposes, enhancing the value of the learning experience.\n",
      "\n",
      "3. **Interactive Content**: The platform integrates blockchain-based smart contracts to facilitate interactive content such as immersive language courses, chatbots that practice conversation, and interactive grammar exercises. This gamifies the learning process and keeps users engaged.\n",
      "\n",
      "4. **Currency for Language Exchange**: LangChain introduces its own token, called LangCoin, which can be exchanged for learning services or used to incentivize language exchange between users. This encourages collaboration and fosters a native-speaking community.\n",
      "\n",
      "5. **Community Building**: LangChain fosters a global community of learners where they can connect with each other, share resources, and practice through various language exchange opportunities. The platform uses blockchain's immutability to ensure the authenticity of these interactions.\n",
      "\n",
      "6. **Data Privacy**: With blockchain technology, data privacy is enhanced as users' personal information is encrypted and only accessible to them and the platform. This addresses concerns about data security in traditional learning environments.\n",
      "\n",
      "7. **Regularity and Transparency**: LangChain tracks user progress transparently through a transparent algorithm that adjusts difficulty levels based on performance. This promotes a continuous learning experience, with learners constantly challenged to improve.\n",
      "\n",
      "In summary, LangChain combines the efficiency of blockchain with immersive language education to offer a novel and efficient way for individuals to learn and connect with others in different languages. It aims to create a more accessible, engaging, and accountable language learning experience for all.\n"
     ]
    }
   ],
   "source": [
    "resp = chain.invoke(\n",
    "    {\"input\": \"请介绍一下langchain\"}\n",
    ")\n",
    "print(resp.content)"
   ]
  },
  {
   "cell_type": "markdown",
   "metadata": {},
   "source": [
    "同样，还可以使用 StrOutputParser 对 LLM 输出进行格式化处理"
   ]
  },
  {
   "cell_type": "code",
   "execution_count": 9,
   "metadata": {},
   "outputs": [],
   "source": [
    "from langchain_core.output_parsers import StrOutputParser\n",
    "\n",
    "output_parser = StrOutputParser()"
   ]
  },
  {
   "cell_type": "code",
   "execution_count": 10,
   "metadata": {},
   "outputs": [],
   "source": [
    "chain = prompt | llm | output_parser"
   ]
  },
  {
   "cell_type": "code",
   "execution_count": 25,
   "metadata": {},
   "outputs": [
    {
     "data": {
      "text/plain": [
       "\"LangChain is a cutting-edge programming language and its accompanying development framework designed to provide seamless and efficient software development experiences. At the core of LangChain lies a modern, powerful syntax that simplifies code writing and enhances readability, making it ideal for both beginners and advanced developers.\\n\\nKey Features:\\n\\n1. **Clean Syntax:** LangChain follows a clean and expressive coding standard, reducing boilerplate and allowing developers to focus on logic rather than syntax.\\n\\n2. **Type Safety:** The language is type-safe by default, ensuring that errors are caught early and preventing potential bugs during runtime.\\n\\n3. **Interoperability:** LangChain is designed with extensibility in mind, allowing it to seamlessly integrate with other languages and systems through APIs or libraries.\\n\\n4. **Object-Oriented**: It supports object-oriented programming principles like inheritance, encapsulation, and polymorphism, making it suitable for building complex software structures.\\n\\n5. **Functional Tools:** LangChain includes built-in functional constructs for high-order functions, closures, and recursion, enabling developers to write more concise and efficient code.\\n\\n6. ** Modular Structure:** The framework encourages modularity with its component-based architecture, which makes code organization and maintenance easier.\\n\\n7. **Debugging & Profiling**: Integrated development tools (IDEs) provide robust debugging capabilities and profiling options for optimizing performance.\\n\\n8. **Community Support:** LangChain has a growing community of developers, providing ample resources like documentation, forums, and libraries to enhance the learning curve and overall development experience.\\n\\n9. **Learning Curve**: LangChain is designed with a gentle learning curve, making it easy for new developers to pick up while maintaining the depth for experienced practitioners.\\n\\n10. **Cross-Platform:** LangChain can be compiled to various platforms, ensuring that applications developed using its language are accessible across different devices and operating systems.\\n\\nTo get started with LangChain, developers typically follow a comprehensive documentation guide, tutorials, and code samples provided by the framework's creators. The documentation is known for being comprehensive, detailed, and up-to-date, making it an invaluable resource for any developer looking to work in this domain.\\n\\nIn conclusion, LangChain offers a robust and versatile programming language ecosystem that combines modern features with user-friendly design, making it a compelling choice for software development projects of all sizes.\""
      ]
     },
     "execution_count": 25,
     "metadata": {},
     "output_type": "execute_result"
    }
   ],
   "source": [
    "chain.invoke(\n",
    "    {\"input\": \"请介绍一下langchain\"}\n",
    ")"
   ]
  },
  {
   "cell_type": "markdown",
   "metadata": {},
   "source": [
    "## 3. Retrieval Chain\n",
    "\n",
    "Langchain 提供 API 方便我们从第三方平台获取（Retrieval）数据，然后交由 LLM 进行分析处理。\n",
    "接下来将演示通过 Langchain 获取在线网页信息然后交由 LLM 进行处理"
   ]
  },
  {
   "cell_type": "code",
   "execution_count": 12,
   "metadata": {},
   "outputs": [
    {
     "name": "stdout",
     "output_type": "stream",
     "text": [
      "Requirement already satisfied: beautifulsoup4 in d:\\applications\\miniconda3\\envs\\llamaindex-learning\\lib\\site-packages (4.12.3)\n",
      "Requirement already satisfied: soupsieve>1.2 in d:\\applications\\miniconda3\\envs\\llamaindex-learning\\lib\\site-packages (from beautifulsoup4) (2.5)\n",
      "Note: you may need to restart the kernel to use updated packages.\n"
     ]
    }
   ],
   "source": [
    "%pip install beautifulsoup4"
   ]
  },
  {
   "cell_type": "code",
   "execution_count": 22,
   "metadata": {},
   "outputs": [],
   "source": [
    "from langchain_community.document_loaders import WebBaseLoader\n",
    "loader = WebBaseLoader(\"https://python.langchain.com/docs/get_started/introduction\")\n",
    "\n",
    "docs = loader.load()"
   ]
  },
  {
   "cell_type": "markdown",
   "metadata": {},
   "source": [
    "下一步，我们将使用本地 Embedding 模型将数据向量化，同时存储在向量数据库中。\n",
    "\n",
    "第一步：配置本地的 Embeddable 模型。参考 [langchain-how-to-use-a-custom-embedding-model-locally](https://stackoverflow.com/questions/77217193/langchain-how-to-use-a-custom-embedding-model-locally)"
   ]
  },
  {
   "cell_type": "code",
   "execution_count": 14,
   "metadata": {},
   "outputs": [],
   "source": [
    "# %conda install faiss-gpu"
   ]
  },
  {
   "cell_type": "code",
   "execution_count": 23,
   "metadata": {},
   "outputs": [],
   "source": [
    "from langchain.embeddings import HuggingFaceEmbeddings\n",
    "\n",
    "modelPath = \"BAAI/bge-base-en-v1.5\"\n",
    "\n",
    "# Create a dictionary with model configuration options, specifying to use the CPU for computations\n",
    "# model_kwargs = {'device':'cpu'}\n",
    "model_kwargs = {'device':'cuda'}\n",
    "\n",
    "# Create a dictionary with encoding options, specifically setting 'normalize_embeddings' to False\n",
    "encode_kwargs = {'normalize_embeddings': True}\n",
    "\n",
    "# Initialize an instance of HuggingFaceEmbeddings with the specified parameters\n",
    "embeddings = HuggingFaceEmbeddings(\n",
    "    model_name=modelPath,     # Provide the pre-trained model's path\n",
    "    model_kwargs=model_kwargs, # Pass the model configuration options\n",
    "    encode_kwargs=encode_kwargs # Pass the encoding options\n",
    ")"
   ]
  },
  {
   "cell_type": "markdown",
   "metadata": {},
   "source": [
    "开始向量化数据"
   ]
  },
  {
   "cell_type": "code",
   "execution_count": 24,
   "metadata": {},
   "outputs": [],
   "source": [
    "from langchain_community.vectorstores import FAISS\n",
    "from langchain.text_splitter import RecursiveCharacterTextSplitter\n",
    "\n",
    "\n",
    "text_splitter = RecursiveCharacterTextSplitter()\n",
    "documents = text_splitter.split_documents(docs)\n",
    "vector = FAISS.from_documents(documents, embeddings)"
   ]
  },
  {
   "cell_type": "markdown",
   "metadata": {},
   "source": [
    "现在，我们已经在向量存储中索引了这些数据，我们将创建一个检索链。该链将接受传入的问题，查找相关文档，然后将这些文档与原始问题一起传递到一个LLM中，并要求它回答原始问题。"
   ]
  },
  {
   "cell_type": "code",
   "execution_count": 18,
   "metadata": {},
   "outputs": [],
   "source": [
    "from langchain.chains.combine_documents import create_stuff_documents_chain\n",
    "\n",
    "prompt = ChatPromptTemplate.from_template(\"\"\"Answer the following question based only on the provided context:\n",
    "\n",
    "<context>\n",
    "{context}\n",
    "</context>\n",
    "\n",
    "Question: {input}\"\"\")\n",
    "\n",
    "document_chain = create_stuff_documents_chain(llm, prompt)"
   ]
  },
  {
   "cell_type": "markdown",
   "metadata": {},
   "source": [
    "我们可以直接将文件交由 LLM 处理："
   ]
  },
  {
   "cell_type": "code",
   "execution_count": 19,
   "metadata": {},
   "outputs": [
    {
     "data": {
      "text/plain": [
       "'Langsmith can assist in testing by visualizing the results, likely providing a graphical representation or some kind of data visualization that allows users to easily interpret and understand the outcome of the tests. This could be helpful in identifying any issues, trends, or successes in the testing process.'"
      ]
     },
     "execution_count": 19,
     "metadata": {},
     "output_type": "execute_result"
    }
   ],
   "source": [
    "from langchain_core.documents import Document\n",
    "\n",
    "document_chain.invoke({\n",
    "    \"input\": \"how can langsmith help with testing?\",\n",
    "    \"context\": [Document(page_content=\"langsmith can let you visualize test results\")]\n",
    "})"
   ]
  },
  {
   "cell_type": "markdown",
   "metadata": {},
   "source": [
    "但是，我们希望文档首先来自我们刚刚设置的检索器。这样，对于给定的问题，我们可以使用检索器动态选择最相关的文档并将其传递。\n",
    "\n",
    "参考文档：[langchain faiss](https://python.langchain.com/docs/integrations/vectorstores/faiss)"
   ]
  },
  {
   "cell_type": "code",
   "execution_count": 20,
   "metadata": {},
   "outputs": [],
   "source": [
    "from langchain.chains import create_retrieval_chain\n",
    "\n",
    "retriever = vector.as_retriever()\n",
    "retrieval_chain = create_retrieval_chain(retriever, document_chain)"
   ]
  },
  {
   "cell_type": "code",
   "execution_count": 27,
   "metadata": {},
   "outputs": [
    {
     "name": "stdout",
     "output_type": "stream",
     "text": [
      "<class 'dict'>\n",
      "{'input': '请介绍一下langchain', 'context': [Document(page_content='Introduction | 🦜️🔗 Langchain', metadata={'source': 'https://python.langchain.com/docs/get_started/introduction', 'title': 'Introduction | 🦜️🔗 Langchain', 'description': 'LangChain is a framework for developing applications powered by language models. It enables applications that:', 'language': 'en'}), Document(page_content=\"and techniques for common end-to-end use cases, like:Document question answeringChatbotsAnalyzing structured dataand much more...Integrations\\u200bLangChain is part of a rich ecosystem of tools that integrate with our framework and build on top of it. Check out our growing list of integrations.Guides\\u200bBest practices for developing with LangChain.API reference\\u200bHead to the reference section for full documentation of all classes and methods in the LangChain and LangChain Experimental Python packages.Developer's guide\\u200bCheck out the developer's guide for guidelines on contributing and help getting your dev environment set up.PreviousGet startedNextInstallationLangChain LibrariesGet startedLangChain Expression Language (LCEL)ModulesExamples, ecosystem, and resourcesUse casesIntegrationsGuidesAPI referenceDeveloper's guideCommunityDiscordTwitterGitHubPythonJS/TSMoreHomepageBlogYouTubeCopyright © 2024 LangChain, Inc.\", metadata={'source': 'https://python.langchain.com/docs/get_started/introduction', 'title': 'Introduction | 🦜️🔗 Langchain', 'description': 'LangChain is a framework for developing applications powered by language models. It enables applications that:', 'language': 'en'}), Document(page_content=\"Skip to main content🦜️🔗 LangChainDocsUse casesIntegrationsGuidesAPIMoreVersioningChangelogDeveloper's guideTemplatesCookbooksTutorialsYouTube🦜️🔗LangSmithLangSmith DocsLangServe GitHubTemplates GitHubTemplates HubLangChain HubJS/TS DocsChatSearchGet startedIntroductionInstallationQuickstartSecurityLangChain Expression LanguageGet startedWhy use LCELInterfaceStreamingHow toCookbookLangChain Expression Language (LCEL)ModulesModel I/ORetrievalAgentsChainsMoreLangServeLangSmithLangGraphGet startedIntroductionOn this pageIntroductionLangChain is a framework for developing applications powered by language models. It enables applications that:Are context-aware: connect a language model to sources of context (prompt instructions, few shot examples, content to ground its response in, etc.)Reason: rely on a language model to reason (about how to answer based on provided context, what actions to take, etc.)This framework consists of several parts.LangChain Libraries: The Python and JavaScript libraries. Contains interfaces and integrations for a myriad of components, a basic run time for combining these components into chains and agents, and off-the-shelf implementations of chains and agents.LangChain Templates: A collection of easily deployable reference architectures for a wide variety of tasks.LangServe: A library for deploying LangChain chains as a REST API.LangSmith: A developer platform that lets you debug, test, evaluate, and monitor chains built on any LLM framework and seamlessly integrates with LangChain.Together, these products simplify the entire application lifecycle:Develop: Write your applications in LangChain/LangChain.js. Hit the ground running using Templates for reference.Productionize: Use LangSmith to inspect, test and monitor your chains, so that you can constantly improve and deploy with confidence.Deploy: Turn any chain into an API with LangServe.LangChain Libraries\\u200bThe main value props of the LangChain packages are:Components: composable tools and integrations for working with language models. Components are modular and easy-to-use, whether you are using the rest of the LangChain framework or notOff-the-shelf chains: built-in assemblages of components for accomplishing higher-level tasksOff-the-shelf chains make it easy to get started. Components make it easy to customize existing chains and build new ones.The LangChain libraries themselves are made up of several different packages.langchain-core: Base abstractions and LangChain Expression Language.langchain-community: Third party integrations.langchain: Chains, agents, and retrieval strategies that make up an application's cognitive architecture.Get started\\u200bHere’s how to install LangChain, set up your environment, and start building.We recommend following our Quickstart guide to familiarize yourself with the framework by building your first LangChain application.Read up on our Security best practices to make sure you're developing safely with LangChain.noteThese docs focus on the Python LangChain library. Head here for docs on the JavaScript LangChain library.LangChain Expression Language (LCEL)\\u200bLCEL is a declarative way to compose chains. LCEL was designed from day 1 to support putting prototypes in production, with no code changes, from the simplest “prompt + LLM” chain to the most complex chains.Overview: LCEL and its benefitsInterface: The standard interface for LCEL objectsHow-to: Key features of LCELCookbook: Example code for accomplishing common tasksModules\\u200bLangChain provides standard, extendable interfaces and integrations for the following modules:Model I/O\\u200bInterface with language modelsRetrieval\\u200bInterface with application-specific dataAgents\\u200bLet models choose which tools to use given high-level directivesExamples, ecosystem, and resources\\u200bUse cases\\u200bWalkthroughs and techniques for common end-to-end use cases, like:Document question answeringChatbotsAnalyzing structured dataand much more...Integrations\\u200bLangChain is part of a rich ecosystem of tools that\", metadata={'source': 'https://python.langchain.com/docs/get_started/introduction', 'title': 'Introduction | 🦜️🔗 Langchain', 'description': 'LangChain is a framework for developing applications powered by language models. It enables applications that:', 'language': 'en'})], 'answer': 'LangChain是一个框架，用于开发由语言模型驱动的应用程序。它允许应用程序具备上下文感知能力，将语言模型与各种来源的上下文（如提示指令、少量示例和内容）连接起来，并利用语言模型进行推理。这个框架包括以下几个部分：\\n\\n1. LangChain Libraries：提供了Python和JavaScript库，包含对组件的接口和集成，一个基础运行时来组合这些组件成链和代理，以及预设完成任务的链和代理。\\n\\n2. LangChain Templates：一组易于部署的参考架构，用于各种任务的实现。\\n\\n3. LangServe：用于将LangChain的链部署为REST API的库。\\n\\n4. LangSmith：一个开发者平台，用于调试、测试、评估和监控基于任何LLM框架的链，并与LangChain无缝集成。\\n\\nLangChain的核心价值在于其组件化工具和集成，支持语言模型的交互，并且提供了各种预设的链和策略。LCEL（LangChain Expression Language）是声明性的方式来构建和配置这些链，设计用于无需代码更改地将原型从简单的“提示+LLM”扩展到复杂的应用。它提供了标准接口和模块，如模型输入/输出、检索和代理工具的集成。 LangChain还处于一个生态系统中，与其他工具兼容，支持常见的端到端用例，如文档问答、聊天机器人和结构化数据分析。'}\n",
      "LangChain是一个框架，用于开发由语言模型驱动的应用程序。它允许应用程序具备上下文感知能力，将语言模型与各种来源的上下文（如提示指令、少量示例和内容）连接起来，并利用语言模型进行推理。这个框架包括以下几个部分：\n",
      "\n",
      "1. LangChain Libraries：提供了Python和JavaScript库，包含对组件的接口和集成，一个基础运行时来组合这些组件成链和代理，以及预设完成任务的链和代理。\n",
      "\n",
      "2. LangChain Templates：一组易于部署的参考架构，用于各种任务的实现。\n",
      "\n",
      "3. LangServe：用于将LangChain的链部署为REST API的库。\n",
      "\n",
      "4. LangSmith：一个开发者平台，用于调试、测试、评估和监控基于任何LLM框架的链，并与LangChain无缝集成。\n",
      "\n",
      "LangChain的核心价值在于其组件化工具和集成，支持语言模型的交互，并且提供了各种预设的链和策略。LCEL（LangChain Expression Language）是声明性的方式来构建和配置这些链，设计用于无需代码更改地将原型从简单的“提示+LLM”扩展到复杂的应用。它提供了标准接口和模块，如模型输入/输出、检索和代理工具的集成。 LangChain还处于一个生态系统中，与其他工具兼容，支持常见的端到端用例，如文档问答、聊天机器人和结构化数据分析。\n"
     ]
    }
   ],
   "source": [
    "response = retrieval_chain.invoke({\"input\": \"请介绍一下langchain\"})\n",
    "print(type(response))\n",
    "print(response)\n",
    "print(response[\"answer\"])"
   ]
  },
  {
   "cell_type": "markdown",
   "metadata": {},
   "source": [
    "对比于“直接回答”的结果更为准确、精炼"
   ]
  }
 ],
 "metadata": {
  "kernelspec": {
   "display_name": "llamaindex-learning",
   "language": "python",
   "name": "python3"
  },
  "language_info": {
   "codemirror_mode": {
    "name": "ipython",
    "version": 3
   },
   "file_extension": ".py",
   "mimetype": "text/x-python",
   "name": "python",
   "nbconvert_exporter": "python",
   "pygments_lexer": "ipython3",
   "version": "3.11.7"
  }
 },
 "nbformat": 4,
 "nbformat_minor": 2
}
