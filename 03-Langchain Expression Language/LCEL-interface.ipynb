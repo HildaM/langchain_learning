{
 "cells": [
  {
   "cell_type": "markdown",
   "metadata": {},
   "source": [
    "# Langchain Expression Language Interface Pratise\n",
    "\n",
    "这是官方教材 [Langchain Expression Language Interface](https://python.langchain.com/docs/expression_language/interface) 的代码实践。"
   ]
  },
  {
   "cell_type": "markdown",
   "metadata": {},
   "source": [
    "## Setting up Local LLM\n",
    "\n",
    "这次用 Mac 进行学习，LLM 后端使用 [Ollama](https://github.com/ollama/ollama) 进行运行"
   ]
  },
  {
   "cell_type": "code",
   "execution_count": 1,
   "metadata": {},
   "outputs": [
    {
     "name": "stdout",
     "output_type": "stream",
     "text": [
      "Requirement already satisfied: langchain in /Users/rionzhao/miniforge3/lib/python3.10/site-packages (0.1.7)\n",
      "Requirement already satisfied: PyYAML>=5.3 in /Users/rionzhao/miniforge3/lib/python3.10/site-packages (from langchain) (6.0.1)\n",
      "Requirement already satisfied: SQLAlchemy<3,>=1.4 in /Users/rionzhao/miniforge3/lib/python3.10/site-packages (from langchain) (2.0.27)\n",
      "Requirement already satisfied: aiohttp<4.0.0,>=3.8.3 in /Users/rionzhao/miniforge3/lib/python3.10/site-packages (from langchain) (3.9.1)\n",
      "Requirement already satisfied: async-timeout<5.0.0,>=4.0.0 in /Users/rionzhao/miniforge3/lib/python3.10/site-packages (from langchain) (4.0.3)\n",
      "Requirement already satisfied: dataclasses-json<0.7,>=0.5.7 in /Users/rionzhao/miniforge3/lib/python3.10/site-packages (from langchain) (0.6.4)\n",
      "Requirement already satisfied: jsonpatch<2.0,>=1.33 in /Users/rionzhao/miniforge3/lib/python3.10/site-packages (from langchain) (1.33)\n",
      "Requirement already satisfied: langchain-community<0.1,>=0.0.20 in /Users/rionzhao/miniforge3/lib/python3.10/site-packages (from langchain) (0.0.20)\n",
      "Requirement already satisfied: langchain-core<0.2,>=0.1.22 in /Users/rionzhao/miniforge3/lib/python3.10/site-packages (from langchain) (0.1.23)\n",
      "Requirement already satisfied: langsmith<0.1,>=0.0.83 in /Users/rionzhao/miniforge3/lib/python3.10/site-packages (from langchain) (0.0.87)\n",
      "Requirement already satisfied: numpy<2,>=1 in /Users/rionzhao/miniforge3/lib/python3.10/site-packages (from langchain) (1.26.3)\n",
      "Requirement already satisfied: pydantic<3,>=1 in /Users/rionzhao/miniforge3/lib/python3.10/site-packages (from langchain) (1.10.13)\n",
      "Requirement already satisfied: requests<3,>=2 in /Users/rionzhao/miniforge3/lib/python3.10/site-packages (from langchain) (2.31.0)\n",
      "Requirement already satisfied: tenacity<9.0.0,>=8.1.0 in /Users/rionzhao/miniforge3/lib/python3.10/site-packages (from langchain) (8.2.3)\n",
      "Requirement already satisfied: attrs>=17.3.0 in /Users/rionzhao/miniforge3/lib/python3.10/site-packages (from aiohttp<4.0.0,>=3.8.3->langchain) (23.2.0)\n",
      "Requirement already satisfied: multidict<7.0,>=4.5 in /Users/rionzhao/miniforge3/lib/python3.10/site-packages (from aiohttp<4.0.0,>=3.8.3->langchain) (6.0.4)\n",
      "Requirement already satisfied: yarl<2.0,>=1.0 in /Users/rionzhao/miniforge3/lib/python3.10/site-packages (from aiohttp<4.0.0,>=3.8.3->langchain) (1.9.4)\n",
      "Requirement already satisfied: frozenlist>=1.1.1 in /Users/rionzhao/miniforge3/lib/python3.10/site-packages (from aiohttp<4.0.0,>=3.8.3->langchain) (1.4.1)\n",
      "Requirement already satisfied: aiosignal>=1.1.2 in /Users/rionzhao/miniforge3/lib/python3.10/site-packages (from aiohttp<4.0.0,>=3.8.3->langchain) (1.3.1)\n",
      "Requirement already satisfied: marshmallow<4.0.0,>=3.18.0 in /Users/rionzhao/miniforge3/lib/python3.10/site-packages (from dataclasses-json<0.7,>=0.5.7->langchain) (3.20.2)\n",
      "Requirement already satisfied: typing-inspect<1,>=0.4.0 in /Users/rionzhao/miniforge3/lib/python3.10/site-packages (from dataclasses-json<0.7,>=0.5.7->langchain) (0.9.0)\n",
      "Requirement already satisfied: jsonpointer>=1.9 in /Users/rionzhao/miniforge3/lib/python3.10/site-packages (from jsonpatch<2.0,>=1.33->langchain) (2.0)\n",
      "Requirement already satisfied: anyio<5,>=3 in /Users/rionzhao/miniforge3/lib/python3.10/site-packages (from langchain-core<0.2,>=0.1.22->langchain) (4.2.0)\n",
      "Requirement already satisfied: packaging<24.0,>=23.2 in /Users/rionzhao/miniforge3/lib/python3.10/site-packages (from langchain-core<0.2,>=0.1.22->langchain) (23.2)\n",
      "Requirement already satisfied: typing-extensions>=4.2.0 in /Users/rionzhao/miniforge3/lib/python3.10/site-packages (from pydantic<3,>=1->langchain) (4.9.0)\n",
      "Requirement already satisfied: charset-normalizer<4,>=2 in /Users/rionzhao/miniforge3/lib/python3.10/site-packages (from requests<3,>=2->langchain) (3.2.0)\n",
      "Requirement already satisfied: idna<4,>=2.5 in /Users/rionzhao/miniforge3/lib/python3.10/site-packages (from requests<3,>=2->langchain) (2.10)\n",
      "Requirement already satisfied: urllib3<3,>=1.21.1 in /Users/rionzhao/miniforge3/lib/python3.10/site-packages (from requests<3,>=2->langchain) (1.26.18)\n",
      "Requirement already satisfied: certifi>=2017.4.17 in /Users/rionzhao/miniforge3/lib/python3.10/site-packages (from requests<3,>=2->langchain) (2023.11.17)\n",
      "Requirement already satisfied: sniffio>=1.1 in /Users/rionzhao/miniforge3/lib/python3.10/site-packages (from anyio<5,>=3->langchain-core<0.2,>=0.1.22->langchain) (1.3.0)\n",
      "Requirement already satisfied: exceptiongroup>=1.0.2 in /Users/rionzhao/miniforge3/lib/python3.10/site-packages (from anyio<5,>=3->langchain-core<0.2,>=0.1.22->langchain) (1.2.0)\n",
      "Requirement already satisfied: mypy-extensions>=0.3.0 in /Users/rionzhao/miniforge3/lib/python3.10/site-packages (from typing-inspect<1,>=0.4.0->dataclasses-json<0.7,>=0.5.7->langchain) (1.0.0)\n",
      "Note: you may need to restart the kernel to use updated packages.\n"
     ]
    }
   ],
   "source": [
    "%pip install langchain"
   ]
  },
  {
   "cell_type": "code",
   "execution_count": 3,
   "metadata": {},
   "outputs": [],
   "source": [
    "# 在 Jupyter Notebook 中运行 Python上下文异步代码，需要安装nest_asyncio 包，该包提供对在嵌套事件循环中运行异步代码的支持。\n",
    "import nest_asyncio\n",
    "\n",
    "nest_asyncio.apply()"
   ]
  },
  {
   "cell_type": "code",
   "execution_count": 7,
   "metadata": {},
   "outputs": [],
   "source": [
    "from langchain_community.llms import Ollama\n",
    "\n",
    "# LLM model\n",
    "# See: https://python.langchain.com/docs/integrations/llms/ollama\n",
    "llm = Ollama(model=\"mistral:latest\")"
   ]
  },
  {
   "cell_type": "markdown",
   "metadata": {},
   "source": [
    "测试是否配置好本地 LLM"
   ]
  },
  {
   "cell_type": "code",
   "execution_count": 13,
   "metadata": {},
   "outputs": [],
   "source": [
    "from langchain_core.prompts import ChatPromptTemplate\n",
    "from langchain_core.output_parsers import StrOutputParser\n",
    "\n",
    "template = \"\"\"Answer the Question: {question}\"\"\"\n",
    "prompt = ChatPromptTemplate.from_template(template)\n",
    "\n",
    "output_parser = StrOutputParser()\n",
    "\n",
    "chain = prompt | llm | output_parser"
   ]
  },
  {
   "cell_type": "code",
   "execution_count": 12,
   "metadata": {},
   "outputs": [
    {
     "data": {
      "text/plain": [
       "\" I'd be happy to introduce you to Beijing, a fascinating city in China. Beijing, also known as Peking, is the capital city and the second largest city by population in China. It is located in the northern part of China, in the heart of the North China Plain.\\n\\nBeijing is rich in history and culture, with over 3,000 years of history. The city has served as the capital of various Chinese dynasties and was the center of politics and culture under each regime. As a result, Beijing is home to many historic sites, including the Forbidden City, the Temple of Heaven, and the Great Wall of China, which are all UNESCO World Heritage Sites.\\n\\nThe city is also known for its modern developments, such as the Olympic Park, which was built for the 2008 Summer Olympics. Beijing is a major cultural, political, and educational center in China, with many universities, museums, and galleries.\\n\\nBeijing's climate is humid continental, with cold winters and hot summers. The city is famous for its delicious local cuisine, which includes Peking Duck, Zhajiangmian, and Jiaozi.\\n\\nOverall, Beijing offers a unique blend of history, culture, modernization, and cuisine, making it an exciting place to visit or live in. I hope this introduction gives you a better understanding of the city!\""
      ]
     },
     "execution_count": 12,
     "metadata": {},
     "output_type": "execute_result"
    }
   ],
   "source": [
    "chain.invoke({\"question\": \"介绍一下北京\"})"
   ]
  },
  {
   "cell_type": "markdown",
   "metadata": {},
   "source": [
    "# Input & Output Schema\n",
    "\n",
    "研究 langchain 输入输出的格式"
   ]
  },
  {
   "cell_type": "markdown",
   "metadata": {},
   "source": [
    "## Input Schema"
   ]
  },
  {
   "cell_type": "code",
   "execution_count": 14,
   "metadata": {},
   "outputs": [
    {
     "data": {
      "text/plain": [
       "{'title': 'PromptInput',\n",
       " 'type': 'object',\n",
       " 'properties': {'question': {'title': 'Question', 'type': 'string'}}}"
      ]
     },
     "execution_count": 14,
     "metadata": {},
     "output_type": "execute_result"
    }
   ],
   "source": [
    "chain.input_schema.schema()"
   ]
  },
  {
   "cell_type": "code",
   "execution_count": 18,
   "metadata": {},
   "outputs": [
    {
     "data": {
      "text/plain": [
       "{'title': 'PromptInput',\n",
       " 'type': 'object',\n",
       " 'properties': {'question': {'title': 'Question', 'type': 'string'}}}"
      ]
     },
     "execution_count": 18,
     "metadata": {},
     "output_type": "execute_result"
    }
   ],
   "source": [
    "prompt.input_schema.schema()"
   ]
  },
  {
   "cell_type": "code",
   "execution_count": 19,
   "metadata": {},
   "outputs": [
    {
     "data": {
      "text/plain": [
       "{'title': 'OllamaInput',\n",
       " 'anyOf': [{'type': 'string'},\n",
       "  {'$ref': '#/definitions/StringPromptValue'},\n",
       "  {'$ref': '#/definitions/ChatPromptValueConcrete'},\n",
       "  {'type': 'array',\n",
       "   'items': {'anyOf': [{'$ref': '#/definitions/AIMessage'},\n",
       "     {'$ref': '#/definitions/HumanMessage'},\n",
       "     {'$ref': '#/definitions/ChatMessage'},\n",
       "     {'$ref': '#/definitions/SystemMessage'},\n",
       "     {'$ref': '#/definitions/FunctionMessage'},\n",
       "     {'$ref': '#/definitions/ToolMessage'}]}}],\n",
       " 'definitions': {'StringPromptValue': {'title': 'StringPromptValue',\n",
       "   'description': 'String prompt value.',\n",
       "   'type': 'object',\n",
       "   'properties': {'text': {'title': 'Text', 'type': 'string'},\n",
       "    'type': {'title': 'Type',\n",
       "     'default': 'StringPromptValue',\n",
       "     'enum': ['StringPromptValue'],\n",
       "     'type': 'string'}},\n",
       "   'required': ['text']},\n",
       "  'AIMessage': {'title': 'AIMessage',\n",
       "   'description': 'Message from an AI.',\n",
       "   'type': 'object',\n",
       "   'properties': {'content': {'title': 'Content',\n",
       "     'anyOf': [{'type': 'string'},\n",
       "      {'type': 'array',\n",
       "       'items': {'anyOf': [{'type': 'string'}, {'type': 'object'}]}}]},\n",
       "    'additional_kwargs': {'title': 'Additional Kwargs', 'type': 'object'},\n",
       "    'type': {'title': 'Type',\n",
       "     'default': 'ai',\n",
       "     'enum': ['ai'],\n",
       "     'type': 'string'},\n",
       "    'example': {'title': 'Example', 'default': False, 'type': 'boolean'}},\n",
       "   'required': ['content']},\n",
       "  'HumanMessage': {'title': 'HumanMessage',\n",
       "   'description': 'Message from a human.',\n",
       "   'type': 'object',\n",
       "   'properties': {'content': {'title': 'Content',\n",
       "     'anyOf': [{'type': 'string'},\n",
       "      {'type': 'array',\n",
       "       'items': {'anyOf': [{'type': 'string'}, {'type': 'object'}]}}]},\n",
       "    'additional_kwargs': {'title': 'Additional Kwargs', 'type': 'object'},\n",
       "    'type': {'title': 'Type',\n",
       "     'default': 'human',\n",
       "     'enum': ['human'],\n",
       "     'type': 'string'},\n",
       "    'example': {'title': 'Example', 'default': False, 'type': 'boolean'}},\n",
       "   'required': ['content']},\n",
       "  'ChatMessage': {'title': 'ChatMessage',\n",
       "   'description': 'Message that can be assigned an arbitrary speaker (i.e. role).',\n",
       "   'type': 'object',\n",
       "   'properties': {'content': {'title': 'Content',\n",
       "     'anyOf': [{'type': 'string'},\n",
       "      {'type': 'array',\n",
       "       'items': {'anyOf': [{'type': 'string'}, {'type': 'object'}]}}]},\n",
       "    'additional_kwargs': {'title': 'Additional Kwargs', 'type': 'object'},\n",
       "    'type': {'title': 'Type',\n",
       "     'default': 'chat',\n",
       "     'enum': ['chat'],\n",
       "     'type': 'string'},\n",
       "    'role': {'title': 'Role', 'type': 'string'}},\n",
       "   'required': ['content', 'role']},\n",
       "  'SystemMessage': {'title': 'SystemMessage',\n",
       "   'description': 'Message for priming AI behavior, usually passed in as the first of a sequence\\nof input messages.',\n",
       "   'type': 'object',\n",
       "   'properties': {'content': {'title': 'Content',\n",
       "     'anyOf': [{'type': 'string'},\n",
       "      {'type': 'array',\n",
       "       'items': {'anyOf': [{'type': 'string'}, {'type': 'object'}]}}]},\n",
       "    'additional_kwargs': {'title': 'Additional Kwargs', 'type': 'object'},\n",
       "    'type': {'title': 'Type',\n",
       "     'default': 'system',\n",
       "     'enum': ['system'],\n",
       "     'type': 'string'}},\n",
       "   'required': ['content']},\n",
       "  'FunctionMessage': {'title': 'FunctionMessage',\n",
       "   'description': 'Message for passing the result of executing a function back to a model.',\n",
       "   'type': 'object',\n",
       "   'properties': {'content': {'title': 'Content',\n",
       "     'anyOf': [{'type': 'string'},\n",
       "      {'type': 'array',\n",
       "       'items': {'anyOf': [{'type': 'string'}, {'type': 'object'}]}}]},\n",
       "    'additional_kwargs': {'title': 'Additional Kwargs', 'type': 'object'},\n",
       "    'type': {'title': 'Type',\n",
       "     'default': 'function',\n",
       "     'enum': ['function'],\n",
       "     'type': 'string'},\n",
       "    'name': {'title': 'Name', 'type': 'string'}},\n",
       "   'required': ['content', 'name']},\n",
       "  'ToolMessage': {'title': 'ToolMessage',\n",
       "   'description': 'Message for passing the result of executing a tool back to a model.',\n",
       "   'type': 'object',\n",
       "   'properties': {'content': {'title': 'Content',\n",
       "     'anyOf': [{'type': 'string'},\n",
       "      {'type': 'array',\n",
       "       'items': {'anyOf': [{'type': 'string'}, {'type': 'object'}]}}]},\n",
       "    'additional_kwargs': {'title': 'Additional Kwargs', 'type': 'object'},\n",
       "    'type': {'title': 'Type',\n",
       "     'default': 'tool',\n",
       "     'enum': ['tool'],\n",
       "     'type': 'string'},\n",
       "    'tool_call_id': {'title': 'Tool Call Id', 'type': 'string'}},\n",
       "   'required': ['content', 'tool_call_id']},\n",
       "  'ChatPromptValueConcrete': {'title': 'ChatPromptValueConcrete',\n",
       "   'description': 'Chat prompt value which explicitly lists out the message types it accepts.\\nFor use in external schemas.',\n",
       "   'type': 'object',\n",
       "   'properties': {'messages': {'title': 'Messages',\n",
       "     'type': 'array',\n",
       "     'items': {'anyOf': [{'$ref': '#/definitions/AIMessage'},\n",
       "       {'$ref': '#/definitions/HumanMessage'},\n",
       "       {'$ref': '#/definitions/ChatMessage'},\n",
       "       {'$ref': '#/definitions/SystemMessage'},\n",
       "       {'$ref': '#/definitions/FunctionMessage'},\n",
       "       {'$ref': '#/definitions/ToolMessage'}]}},\n",
       "    'type': {'title': 'Type',\n",
       "     'default': 'ChatPromptValueConcrete',\n",
       "     'enum': ['ChatPromptValueConcrete'],\n",
       "     'type': 'string'}},\n",
       "   'required': ['messages']}}}"
      ]
     },
     "execution_count": 19,
     "metadata": {},
     "output_type": "execute_result"
    }
   ],
   "source": [
    "llm.input_schema.schema()"
   ]
  },
  {
   "cell_type": "markdown",
   "metadata": {},
   "source": [
    "## Output Schema"
   ]
  },
  {
   "cell_type": "code",
   "execution_count": 20,
   "metadata": {},
   "outputs": [
    {
     "data": {
      "text/plain": [
       "{'title': 'StrOutputParserOutput', 'type': 'string'}"
      ]
     },
     "execution_count": 20,
     "metadata": {},
     "output_type": "execute_result"
    }
   ],
   "source": [
    "chain.output_schema.schema()"
   ]
  },
  {
   "cell_type": "code",
   "execution_count": 21,
   "metadata": {},
   "outputs": [
    {
     "data": {
      "text/plain": [
       "{'title': 'ChatPromptTemplateOutput',\n",
       " 'anyOf': [{'$ref': '#/definitions/StringPromptValue'},\n",
       "  {'$ref': '#/definitions/ChatPromptValueConcrete'}],\n",
       " 'definitions': {'StringPromptValue': {'title': 'StringPromptValue',\n",
       "   'description': 'String prompt value.',\n",
       "   'type': 'object',\n",
       "   'properties': {'text': {'title': 'Text', 'type': 'string'},\n",
       "    'type': {'title': 'Type',\n",
       "     'default': 'StringPromptValue',\n",
       "     'enum': ['StringPromptValue'],\n",
       "     'type': 'string'}},\n",
       "   'required': ['text']},\n",
       "  'AIMessage': {'title': 'AIMessage',\n",
       "   'description': 'Message from an AI.',\n",
       "   'type': 'object',\n",
       "   'properties': {'content': {'title': 'Content',\n",
       "     'anyOf': [{'type': 'string'},\n",
       "      {'type': 'array',\n",
       "       'items': {'anyOf': [{'type': 'string'}, {'type': 'object'}]}}]},\n",
       "    'additional_kwargs': {'title': 'Additional Kwargs', 'type': 'object'},\n",
       "    'type': {'title': 'Type',\n",
       "     'default': 'ai',\n",
       "     'enum': ['ai'],\n",
       "     'type': 'string'},\n",
       "    'example': {'title': 'Example', 'default': False, 'type': 'boolean'}},\n",
       "   'required': ['content']},\n",
       "  'HumanMessage': {'title': 'HumanMessage',\n",
       "   'description': 'Message from a human.',\n",
       "   'type': 'object',\n",
       "   'properties': {'content': {'title': 'Content',\n",
       "     'anyOf': [{'type': 'string'},\n",
       "      {'type': 'array',\n",
       "       'items': {'anyOf': [{'type': 'string'}, {'type': 'object'}]}}]},\n",
       "    'additional_kwargs': {'title': 'Additional Kwargs', 'type': 'object'},\n",
       "    'type': {'title': 'Type',\n",
       "     'default': 'human',\n",
       "     'enum': ['human'],\n",
       "     'type': 'string'},\n",
       "    'example': {'title': 'Example', 'default': False, 'type': 'boolean'}},\n",
       "   'required': ['content']},\n",
       "  'ChatMessage': {'title': 'ChatMessage',\n",
       "   'description': 'Message that can be assigned an arbitrary speaker (i.e. role).',\n",
       "   'type': 'object',\n",
       "   'properties': {'content': {'title': 'Content',\n",
       "     'anyOf': [{'type': 'string'},\n",
       "      {'type': 'array',\n",
       "       'items': {'anyOf': [{'type': 'string'}, {'type': 'object'}]}}]},\n",
       "    'additional_kwargs': {'title': 'Additional Kwargs', 'type': 'object'},\n",
       "    'type': {'title': 'Type',\n",
       "     'default': 'chat',\n",
       "     'enum': ['chat'],\n",
       "     'type': 'string'},\n",
       "    'role': {'title': 'Role', 'type': 'string'}},\n",
       "   'required': ['content', 'role']},\n",
       "  'SystemMessage': {'title': 'SystemMessage',\n",
       "   'description': 'Message for priming AI behavior, usually passed in as the first of a sequence\\nof input messages.',\n",
       "   'type': 'object',\n",
       "   'properties': {'content': {'title': 'Content',\n",
       "     'anyOf': [{'type': 'string'},\n",
       "      {'type': 'array',\n",
       "       'items': {'anyOf': [{'type': 'string'}, {'type': 'object'}]}}]},\n",
       "    'additional_kwargs': {'title': 'Additional Kwargs', 'type': 'object'},\n",
       "    'type': {'title': 'Type',\n",
       "     'default': 'system',\n",
       "     'enum': ['system'],\n",
       "     'type': 'string'}},\n",
       "   'required': ['content']},\n",
       "  'FunctionMessage': {'title': 'FunctionMessage',\n",
       "   'description': 'Message for passing the result of executing a function back to a model.',\n",
       "   'type': 'object',\n",
       "   'properties': {'content': {'title': 'Content',\n",
       "     'anyOf': [{'type': 'string'},\n",
       "      {'type': 'array',\n",
       "       'items': {'anyOf': [{'type': 'string'}, {'type': 'object'}]}}]},\n",
       "    'additional_kwargs': {'title': 'Additional Kwargs', 'type': 'object'},\n",
       "    'type': {'title': 'Type',\n",
       "     'default': 'function',\n",
       "     'enum': ['function'],\n",
       "     'type': 'string'},\n",
       "    'name': {'title': 'Name', 'type': 'string'}},\n",
       "   'required': ['content', 'name']},\n",
       "  'ToolMessage': {'title': 'ToolMessage',\n",
       "   'description': 'Message for passing the result of executing a tool back to a model.',\n",
       "   'type': 'object',\n",
       "   'properties': {'content': {'title': 'Content',\n",
       "     'anyOf': [{'type': 'string'},\n",
       "      {'type': 'array',\n",
       "       'items': {'anyOf': [{'type': 'string'}, {'type': 'object'}]}}]},\n",
       "    'additional_kwargs': {'title': 'Additional Kwargs', 'type': 'object'},\n",
       "    'type': {'title': 'Type',\n",
       "     'default': 'tool',\n",
       "     'enum': ['tool'],\n",
       "     'type': 'string'},\n",
       "    'tool_call_id': {'title': 'Tool Call Id', 'type': 'string'}},\n",
       "   'required': ['content', 'tool_call_id']},\n",
       "  'ChatPromptValueConcrete': {'title': 'ChatPromptValueConcrete',\n",
       "   'description': 'Chat prompt value which explicitly lists out the message types it accepts.\\nFor use in external schemas.',\n",
       "   'type': 'object',\n",
       "   'properties': {'messages': {'title': 'Messages',\n",
       "     'type': 'array',\n",
       "     'items': {'anyOf': [{'$ref': '#/definitions/AIMessage'},\n",
       "       {'$ref': '#/definitions/HumanMessage'},\n",
       "       {'$ref': '#/definitions/ChatMessage'},\n",
       "       {'$ref': '#/definitions/SystemMessage'},\n",
       "       {'$ref': '#/definitions/FunctionMessage'},\n",
       "       {'$ref': '#/definitions/ToolMessage'}]}},\n",
       "    'type': {'title': 'Type',\n",
       "     'default': 'ChatPromptValueConcrete',\n",
       "     'enum': ['ChatPromptValueConcrete'],\n",
       "     'type': 'string'}},\n",
       "   'required': ['messages']}}}"
      ]
     },
     "execution_count": 21,
     "metadata": {},
     "output_type": "execute_result"
    }
   ],
   "source": [
    "prompt.output_schema.schema()"
   ]
  },
  {
   "cell_type": "code",
   "execution_count": 22,
   "metadata": {},
   "outputs": [
    {
     "data": {
      "text/plain": [
       "{'title': 'OllamaOutput', 'type': 'string'}"
      ]
     },
     "execution_count": 22,
     "metadata": {},
     "output_type": "execute_result"
    }
   ],
   "source": [
    "llm.output_schema.schema()"
   ]
  },
  {
   "cell_type": "markdown",
   "metadata": {},
   "source": [
    "# Stream API"
   ]
  },
  {
   "cell_type": "markdown",
   "metadata": {},
   "source": [
    "使用 stream 流式输出 API输出resp，让用户可以看到 LLM 思考的结果，避免长时间等待。"
   ]
  },
  {
   "cell_type": "markdown",
   "metadata": {},
   "source": [
    "同步调用"
   ]
  },
  {
   "cell_type": "code",
   "execution_count": 29,
   "metadata": {},
   "outputs": [
    {
     "name": "stdout",
     "output_type": "stream",
     "text": [
      " Establishing a consistent bedtime routine and creating an environment conducive to sleep can help you fall asleep faster. Here are some steps you can take:\n",
      "\n",
      "1. Maintain a regular sleep schedule: Go to bed and wake up at the same time every day, even on weekends. This helps regulate your body's internal clock and could help you fall asleep and stay asleep for the night.\n",
      "\n",
      "2. Create a relaxing pre-sleep routine: Engage in activities that help you relax before bed. This may include taking a warm bath, reading a book, or practicing relaxation techniques such as deep breathing or meditation.\n",
      "\n",
      "3. Make your bedroom a sleep sanctuary: Keep your bedroom dark, quiet, and cool for optimal sleep conditions. Remove any sources of distraction, like electronic devices.\n",
      "\n",
      "4. Avoid stimulants before bedtime: Try to avoid caffeine, nicotine, and alcohol in the hours leading up to bedtime. These substances can disrupt your sleep cycle and make it harder to fall asleep.\n",
      "\n",
      "5. Get some physical activity during the day: Regular exercise can help you fall asleep faster and enjoy deeper sleep. Just be sure not to do any intense workouts too close to bedtime, as this could have the opposite effect.\n",
      "\n",
      "6. Watch what you eat and drink: Avoid large meals, caffeine, and alcohol before bedtime. Instead, opt for a light snack if needed, and choose foods that help promote sleep, such as warm milk or complex carbohydrates.\n",
      "\n",
      "7. Limit exposure to screens before bedtime: The blue light emitted by electronic devices can disrupt your sleep cycle, making it harder to fall asleep. Try to avoid screens for at least an hour before bedtime.\n",
      "\n",
      "8. Practice good sleeping habits: Keep your bedroom cool and quiet, maintain a consistent sleep schedule, and make your bedroom a comfortable place to be. This will help condition your body to wind down and prepare for sleep each night."
     ]
    }
   ],
   "source": [
    "for s in chain.stream({\"question\": \"how to sleep fast in the night\"}):\n",
    "    print(s, end=\"\", flush=True)"
   ]
  },
  {
   "cell_type": "markdown",
   "metadata": {},
   "source": [
    "异步调用 astream"
   ]
  },
  {
   "cell_type": "code",
   "execution_count": 36,
   "metadata": {},
   "outputs": [
    {
     "name": "stdout",
     "output_type": "stream",
     "text": [
      " I'm assuming you're asking about why \"body transformation\" (or \"physical transformation\" if we're being more precise with the translation) can't be widely promoted or adopted. Here are a few reasons:\n",
      "\n",
      "1. **Complexity and Cost:** Body transformation often involves significant lifestyle changes, including diet, exercise, and potentially medical procedures or surgeries. These changes can be difficult to implement and maintain, especially for large populations. Additionally, the costs associated with these transformations can be prohibitive for many people.\n",
      "2. **Individual Differences:** Every person's body is unique, and what works for one person may not work for another. This makes it challenging to create a \"one-size-fits-all\" solution for body transformation that can be widely promoted and adopted.\n",
      "3. **Lack of Scientific Consensus:** While there are many methods and approaches to body transformation, there is often a lack of scientific consensus on which ones are most effective or safe. This can make it difficult for people to trust the information they're receiving and may discourage them from attempting a transformation.\n",
      "4. **Health Risks:** Body transformation can involve significant health risks, particularly if not done under medical supervision. These risks can be especially pronounced for older adults or those with pre-existing health conditions. This creates a need for careful consideration and individualized approaches to body transformation, making it challenging to promote as a widespread solution.\n",
      "5. **Cultural and Social Norms:** In some cultures and societies, certain body types or appearances are more valued than others. This can make body transformation difficult to promote widely, as it may not align with the cultural or social norms of a given population.\n",
      "6. **Mental and Emotional Factors:** Body transformation is not just about physical changes; it also involves mental and emotional factors. Maintaining motivation and focus during a transformation can be challenging for many people. Additionally, body image issues and other psychological factors can make body transformation a difficult journey for some individuals.\n",
      "7. **Long-Term Sustainability:** Finally, body transformation is often about making long-term changes to one's lifestyle and habits. However, maintaining these changes over the long term can be challenging for many people. This makes it important to consider the sustainability of any body transformation approach that is being promoted."
     ]
    }
   ],
   "source": [
    "async for s in chain.astream({\"question\": \"身体改造为什么不能推广?\"}):\n",
    "    print(s, end=\"\", flush=True)"
   ]
  },
  {
   "cell_type": "markdown",
   "metadata": {},
   "source": [
    "# Batch API"
   ]
  },
  {
   "cell_type": "markdown",
   "metadata": {},
   "source": [
    "batch 基础API，执行同步调用"
   ]
  },
  {
   "cell_type": "code",
   "execution_count": 32,
   "metadata": {},
   "outputs": [
    {
     "data": {
      "text/plain": [
       "[\" Smiling correctly isn't about following specific rules, as a smile is a natural expression of emotion. However, here are some tips on how to smile effectively in different situations:\\n\\n1. Authentic Smile: The best smile is one that comes naturally from the heart. When you feel happy or content, let your facial muscles do their thing and allow a genuine smile to appear.\\n\\n2. Social Smile: Also known as a polite or fake smile, this can be used in social situations where you want to be friendly but may not feel particularly joyful. To create a social smile, simply turn up the corners of your mouth without engaging the muscles around your eyes.\\n\\n3. Dental Smile: In certain professional or public settings, you might want to show off your pearly whites while smiling. This can be achieved by opening your mouth slightly and revealing your teeth as you smile.\\n\\n4. Broad Smile: A broad or wide grin is an expressive and animated smile that covers a larger area of your face. This type of smile is often used when experiencing intense joy, excitement, or amusement.\\n\\n5. Practice Good Oral Hygiene: To ensure that your teeth look great during a dental smile, be sure to brush twice daily, floss once daily, and maintain regular dental checkups.\\n\\nOverall, the best way to smile correctly is to use the appropriate type of smile for each situation while practicing good oral hygiene. Remember that genuine smiles are the most effective and contagious, so try to let your true emotions shine through in your facial expressions.\",\n",
       " \" Creating a real gun involves complex engineering, manufacturing processes, and adherence to strict regulations due to safety and legal considerations. It's not something that can be done at home or without proper training and licensing. Here are some general steps involved in creating a firearm, but please note that this information is for educational purposes only:\\n\\n1. Design: The first step is to design the gun. This involves creating detailed blueprints, which include specifications such as caliber, length, weight, and ergonomics. Modern gun designers use Computer-Aided Design (CAD) software for this task.\\n\\n2. Prototyping: Once the design is complete, a prototype is built to test its functionality and reliability. The prototype can be made using various methods like 3D printing, CNC machining, or traditional metalworking techniques.\\n\\n3. Manufacturing: After finalizing the design based on the results of prototyping, the gun is mass-produced using advanced manufacturing processes such as CNC machining, casting, forging, or additive manufacturing.\\n\\n4. Assembly: The various components of the gun are then assembled together following the design specifications. This includes installing barrels, receivers, stocks, triggers, and other parts.\\n\\n5. Quality Control: Each gun undergoes rigorous quality control checks to ensure it meets the required safety and performance standards. This involves testing the gun's accuracy, reliability, and durability.\\n\\n6. Finishing: The exterior of the gun is then coated with a protective finish or paint for aesthetic purposes and to protect against corrosion.\\n\\n7. Inspection and Registration: Once completed, the gun undergoes a final inspection by authorized personnel to ensure it complies with all safety and legal regulations. It is then registered with the appropriate authorities.\\n\\n8. Distribution: The finished guns are distributed to dealers or directly to customers through various channels such as retail stores, online marketplaces, or gun shows.\\n\\nRemember that creating a real gun without proper authorization is illegal and dangerous, and can result in severe penalties. This information is provided for educational purposes only.\"]"
      ]
     },
     "execution_count": 32,
     "metadata": {},
     "output_type": "execute_result"
    }
   ],
   "source": [
    "chain.batch([\n",
    "    {\"question\": \"how to smile correctly?\"},\n",
    "    {\"question\": \"how to create a gun?\"}\n",
    "])"
   ]
  },
  {
   "cell_type": "markdown",
   "metadata": {},
   "source": [
    "异步 batch API"
   ]
  },
  {
   "cell_type": "code",
   "execution_count": 35,
   "metadata": {},
   "outputs": [
    {
     "data": {
      "text/plain": [
       "[' Smiling correctly isn\\'t something that requires a specific set of steps as it largely depends on individual facial features and personal expression. However, here are some general tips on how to smile effectively:\\n\\n1. Relax your face: Before you smile, make sure you\\'re in a relaxed state. Tension in the face can result in an unnatural or forced smile.\\n2. Use your eyes: A genuine smile involves not just the muscles around your mouth, but also those around your eyes. Try to look at something that makes you happy to engage those \"laugh lines.\"\\n3. Raise the corners of your lips: Bring the edges of your lips up and outwards towards your ears to create a smile.\\n4. Curve your cheeks: As you smile, gently curve the muscles on the side of your cheeks upwards to deepen the smile.\\n5. Relax your jaw: Ensure your jaw is relaxed and not clenched as you smile to avoid creating tension in that area.\\n6. Practice: The more you practice smiling, the easier it becomes and the more natural it looks.\\n\\nRemember, everyone\\'s smile is unique to them, so the most important thing is to feel good about your own smile and express happiness authentically.',\n",
       " ' Creating a real functional firearm involves complex engineering, manufacturing processes, and requires extensive knowledge in various fields such as metallurgy, chemistry, physics, and law. It\\'s also important to note that making or possessing an unlicensed firearm is illegal and can lead to severe consequences.\\n\\nIf you meant creating a model or replica of a gun for hobbyist purposes, you could consider the following steps:\\n\\n1. Research: Identify which gun model you want to create. Gather accurate blueprints, schematics, or reference images.\\n2. Materials: Acquire appropriate materials such as metal sheets for the body and wood or plastic for stocks.\\n3. Tools: Ensure you have the necessary tools like drills, saws, sandpaper, glue, etc.\\n4. Construction: Assemble the various parts using the blueprints as a guide. This may involve cutting, drilling, shaping, and finishing each piece.\\n5. Painting: Apply the appropriate paint colors or finishes to make it visually appealing and accurate.\\n6. Functionality: For replicas that need to function like the real thing (e.g., for airsoft or paintball games), you may need to add additional components such as working trigger mechanisms, moving parts, or projectile launchers.\\n7. Safety: Always prioritize safety while handling tools and materials during construction.\\n\\nIf this is not what you meant by \"how to create a gun,\" please provide more context so I can give you an accurate answer.']"
      ]
     },
     "execution_count": 35,
     "metadata": {},
     "output_type": "execute_result"
    }
   ],
   "source": [
    "await chain.abatch([\n",
    "    {\"question\": \"how to smile correctly?\"},\n",
    "    {\"question\": \"how to create a gun?\"}\n",
    "])"
   ]
  },
  {
   "cell_type": "markdown",
   "metadata": {},
   "source": [
    "# Parallelism\n",
    "\n",
    "RunnableParallel 方法可以将多条流水线结合在一起，同时运行，提高系统运行效率"
   ]
  },
  {
   "cell_type": "code",
   "execution_count": 45,
   "metadata": {},
   "outputs": [],
   "source": [
    "from langchain_core.runnables import RunnableParallel\n",
    "\n",
    "chain1 = ChatPromptTemplate.from_template(\"tell me a joke about {topic}\") | llm\n",
    "chain2 = (\n",
    "    ChatPromptTemplate.from_template(\"write a short (2 line) poem about {topic}\")\n",
    "    | llm\n",
    ")\n",
    "\n",
    "# joke和poem都是对流水线的命名，没有特殊意义\n",
    "combined = RunnableParallel(joke=chain1, poem=chain2)"
   ]
  },
  {
   "cell_type": "code",
   "execution_count": 46,
   "metadata": {},
   "outputs": [
    {
     "name": "stdout",
     "output_type": "stream",
     "text": [
      "CPU times: user 28.6 ms, sys: 6.17 ms, total: 34.8 ms\n",
      "Wall time: 2.39 s\n"
     ]
    },
    {
     "data": {
      "text/plain": [
       "' Why don\\'t bears like cold weather?\\n\\nBecause they\\'re used to living in \"pawsome\" conditions! But seriously, here\\'s a classic one:\\n\\nWhy are mama bears good at knocking things down?\\n\\nBecause they have great \"bear\"rables! (They have great bears!)'"
      ]
     },
     "execution_count": 46,
     "metadata": {},
     "output_type": "execute_result"
    }
   ],
   "source": [
    "%%time\n",
    "chain1.invoke({\"topic\": \"bears\"})"
   ]
  },
  {
   "cell_type": "code",
   "execution_count": 47,
   "metadata": {},
   "outputs": [
    {
     "name": "stdout",
     "output_type": "stream",
     "text": [
      "CPU times: user 12.7 ms, sys: 2.78 ms, total: 15.4 ms\n",
      "Wall time: 729 ms\n"
     ]
    },
    {
     "data": {
      "text/plain": [
       "' In the forest deep, where whispers sleep,\\nBears dance beneath the starry steep.'"
      ]
     },
     "execution_count": 47,
     "metadata": {},
     "output_type": "execute_result"
    }
   ],
   "source": [
    "%%time\n",
    "chain2.invoke({\"topic\": \"bears\"})"
   ]
  },
  {
   "cell_type": "code",
   "execution_count": 48,
   "metadata": {},
   "outputs": [
    {
     "name": "stdout",
     "output_type": "stream",
     "text": [
      "CPU times: user 40.6 ms, sys: 8.09 ms, total: 48.7 ms\n",
      "Wall time: 2.59 s\n"
     ]
    },
    {
     "data": {
      "text/plain": [
       "{'joke': \" Why don't bears like rainy days?\\n\\nBecause they are a-pawsome in the sun, but paw-some-ally too wet in the rain! 🐻🌧️💦\",\n",
       " 'poem': \" In forests deep, where tranquility resides,\\nBears slumber, guardians of nature's hides.\"}"
      ]
     },
     "execution_count": 48,
     "metadata": {},
     "output_type": "execute_result"
    }
   ],
   "source": [
    "%%time\n",
    "combined.invoke({\"topic\": \"bears\"})"
   ]
  },
  {
   "cell_type": "markdown",
   "metadata": {},
   "source": [
    "## Parallelism on Batches\n",
    "\n",
    "批量调用下的并行运行"
   ]
  },
  {
   "cell_type": "code",
   "execution_count": 49,
   "metadata": {},
   "outputs": [
    {
     "name": "stdout",
     "output_type": "stream",
     "text": [
      "CPU times: user 61 ms, sys: 12.8 ms, total: 73.8 ms\n",
      "Wall time: 4.41 s\n"
     ]
    },
    {
     "data": {
      "text/plain": [
       "[' Why don\\'t bears like old computers?\\n\\nBecause they are always asking for new ROM (Rum) and getting \"Hibernate\" errors!',\n",
       " \" Why don't cats play poker in the jungle?\\n\\nBecause there's too many cheetahs!\\n\\nBut in all seriousness, cats and poker are two things that just don't mix easily. Cats are unpredictable and love to show off their cards at the wrong time, while poker requires strategy, patience, and a good bluff. Maybe that's why cats make great companions but not such great poker players!\"]"
      ]
     },
     "execution_count": 49,
     "metadata": {},
     "output_type": "execute_result"
    }
   ],
   "source": [
    "%%time\n",
    "chain1.batch([{\"topic\": \"bears\"}, {\"topic\": \"cats\"}])"
   ]
  },
  {
   "cell_type": "code",
   "execution_count": 50,
   "metadata": {},
   "outputs": [
    {
     "name": "stdout",
     "output_type": "stream",
     "text": [
      "CPU times: user 33.5 ms, sys: 6.91 ms, total: 40.4 ms\n",
      "Wall time: 2.04 s\n"
     ]
    },
    {
     "data": {
      "text/plain": [
       "[' In the forest deep, where whispers sleep,\\nBears slumber, guardians in their keep.',\n",
       " \" Whispers of grace, in feline guise,\\nCradle curiosity 'cross soft, moonlit eyes.\"]"
      ]
     },
     "execution_count": 50,
     "metadata": {},
     "output_type": "execute_result"
    }
   ],
   "source": [
    "%%time\n",
    "chain2.batch([{\"topic\": \"bears\"}, {\"topic\": \"cats\"}])"
   ]
  },
  {
   "cell_type": "code",
   "execution_count": 53,
   "metadata": {},
   "outputs": [
    {
     "name": "stdout",
     "output_type": "stream",
     "text": [
      "CPU times: user 86.1 ms, sys: 19 ms, total: 105 ms\n",
      "Wall time: 5.66 s\n"
     ]
    },
    {
     "data": {
      "text/plain": [
       "[{'joke': \" Why don't bears like grass?\\n\\nBecause they're paws-itively terrible at mowing it! 🐻🌱🚜\",\n",
       "  'poem': ' In the heart of the forest, where whispers reside,\\nBears slumber, their tales in hibernation, awaiting time.'},\n",
       " {'joke': \" Why don't cats play poker in the jungle?\\n\\nBecause there's too many cheetahs!\\n\\nBut in all seriousness, here's a classic cat joke:\\n\\nWhy was the cat sitting on the computer?\\n\\nHe wanted to mouse around the internet!\",\n",
       "  'poem': \" Whispered purrs in the moonlight's gleam,\\nBeneath soft paws, tranquility seems.\"}]"
      ]
     },
     "execution_count": 53,
     "metadata": {},
     "output_type": "execute_result"
    }
   ],
   "source": [
    "%%time\n",
    "combined.batch([{\"topic\": \"bears\"}, {\"topic\": \"cats\"}])"
   ]
  }
 ],
 "metadata": {
  "kernelspec": {
   "display_name": "base",
   "language": "python",
   "name": "python3"
  },
  "language_info": {
   "codemirror_mode": {
    "name": "ipython",
    "version": 3
   },
   "file_extension": ".py",
   "mimetype": "text/x-python",
   "name": "python",
   "nbconvert_exporter": "python",
   "pygments_lexer": "ipython3",
   "version": "3.10.12"
  }
 },
 "nbformat": 4,
 "nbformat_minor": 2
}
